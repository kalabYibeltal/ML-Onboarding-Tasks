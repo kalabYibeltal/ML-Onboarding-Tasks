{
  "cells": [
    {
      "cell_type": "markdown",
      "metadata": {
        "id": "view-in-github",
        "colab_type": "text"
      },
      "source": [
        "<a href=\"https://colab.research.google.com/github/kalabYibeltal/ML-Onboarding-Tasks/blob/main/Checkpoints.ipynb\" target=\"_parent\"><img src=\"https://colab.research.google.com/assets/colab-badge.svg\" alt=\"Open In Colab\"/></a>"
      ]
    },
    {
      "cell_type": "markdown",
      "id": "70d68298",
      "metadata": {
        "id": "70d68298"
      },
      "source": [
        "# Checkpoints"
      ]
    },
    {
      "cell_type": "markdown",
      "id": "67d0260a",
      "metadata": {
        "id": "67d0260a"
      },
      "source": [
        "**CP1**:\n",
        "Given the list $[A, B, C]$, use the `itertools` module to generate all possible\n",
        "combinations of 2 elements.\n",
        "\n",
        "**Expected Output**:\n",
        "$$\n",
        " (A, B) \\\\\n",
        " (A, C) \\\\\n",
        " (B, C)\n",
        "$$"
      ]
    },
    {
      "cell_type": "code",
      "source": [
        "import itertools"
      ],
      "metadata": {
        "id": "EiGMKg6KspHP"
      },
      "id": "EiGMKg6KspHP",
      "execution_count": 5,
      "outputs": []
    },
    {
      "cell_type": "code",
      "execution_count": 2,
      "id": "9dd63d67",
      "metadata": {
        "id": "9dd63d67",
        "outputId": "60e3c29e-03c5-4cb6-f4df-69cbc629f29a",
        "colab": {
          "base_uri": "https://localhost:8080/"
        }
      },
      "outputs": [
        {
          "output_type": "stream",
          "name": "stdout",
          "text": [
            "('A', 'B') ('A', 'C') ('B', 'C')\n"
          ]
        }
      ],
      "source": [
        "input = ['A', 'B', 'C']\n",
        "output = list(itertools.combinations(input,2))\n",
        "print(*output)"
      ]
    },
    {
      "cell_type": "markdown",
      "id": "31c15dce",
      "metadata": {
        "id": "31c15dce"
      },
      "source": [
        "**CP2**:\n",
        "Use the `itertools` module to create a sequence that cycles through\n",
        "['Python', 'is', 'fun'] infinitely. Print the first 10 elements of the sequence.\n",
        "\n",
        "**Expected Output**:\n",
        "$$\n",
        "Python \\\\\n",
        "is\\\\\n",
        "fun\\\\\n",
        "Python\\\\\n",
        "is\\\\\n",
        "fun\\\\\n",
        "Python\\\\\n",
        "is\\\\\n",
        "fun\\\\\n",
        "Python\n",
        "$$"
      ]
    },
    {
      "cell_type": "code",
      "execution_count": 6,
      "id": "c75f246c",
      "metadata": {
        "id": "c75f246c",
        "outputId": "a87b51d1-f83a-437f-d92b-36bc775fb550",
        "colab": {
          "base_uri": "https://localhost:8080/"
        }
      },
      "outputs": [
        {
          "output_type": "stream",
          "name": "stdout",
          "text": [
            "Python is fun Python is fun Python is fun Python\n"
          ]
        }
      ],
      "source": [
        "input = ['Python', 'is', 'fun']\n",
        "output = itertools.cycle(input)\n",
        "output = list(itertools.islice(output,10))\n",
        "print(*output)"
      ]
    },
    {
      "cell_type": "markdown",
      "id": "cbef0f63",
      "metadata": {
        "id": "cbef0f63"
      },
      "source": [
        "**CP3**:\n",
        "Use the `glob` module to list all python (.py) files in your current working directory.\n",
        "\n",
        "\n"
      ]
    },
    {
      "cell_type": "code",
      "execution_count": 15,
      "id": "3e62d5b4",
      "metadata": {
        "id": "3e62d5b4",
        "outputId": "ae15e42b-d366-45b9-f3dd-52665e997f9b",
        "colab": {
          "base_uri": "https://localhost:8080/"
        }
      },
      "outputs": [
        {
          "output_type": "stream",
          "name": "stdout",
          "text": [
            "[]\n"
          ]
        }
      ],
      "source": [
        "import glob\n",
        "print(glob.glob(\"*.py\"))"
      ]
    },
    {
      "cell_type": "markdown",
      "id": "d266d698",
      "metadata": {
        "id": "d266d698"
      },
      "source": [
        "**CP4**: You are given the following HTML content below. Write a function that uses BeautifulSoup to parse the HTML and extract the text inside the   '$<p>$'   tag.\n"
      ]
    },
    {
      "cell_type": "code",
      "source": [
        "from bs4 import BeautifulSoup"
      ],
      "metadata": {
        "id": "D2XKLFGRzW-5"
      },
      "id": "D2XKLFGRzW-5",
      "execution_count": 10,
      "outputs": []
    },
    {
      "cell_type": "code",
      "execution_count": 11,
      "id": "27f941c8",
      "metadata": {
        "id": "27f941c8"
      },
      "outputs": [],
      "source": [
        "html_content = '''<html><body><div class='main'><h1>Welcome to AI</h1><p>AI is transforming the world</p></div></body></html>'''"
      ]
    },
    {
      "cell_type": "code",
      "execution_count": 14,
      "id": "6fb1cdcf",
      "metadata": {
        "id": "6fb1cdcf",
        "outputId": "e2898b8e-6038-4bed-a27a-a2f7e1fa81e8",
        "colab": {
          "base_uri": "https://localhost:8080/"
        }
      },
      "outputs": [
        {
          "output_type": "stream",
          "name": "stdout",
          "text": [
            "AI is transforming the world\n"
          ]
        }
      ],
      "source": [
        "soup = BeautifulSoup(html_content, 'html.parser')\n",
        "output = \"\"\n",
        "paragraphs = soup.find_all('p')\n",
        "for ps in paragraphs:\n",
        "  output += ps.get_text()\n",
        "print(output)"
      ]
    },
    {
      "cell_type": "markdown",
      "id": "a1fce3ef",
      "metadata": {
        "id": "a1fce3ef"
      },
      "source": [
        "**CP5**: Write a function that uses the re module to replace all occurrences of the word \"AI\" with \"Artificial Intelligence\" in a given text."
      ]
    },
    {
      "cell_type": "code",
      "execution_count": 17,
      "id": "07178a2d",
      "metadata": {
        "id": "07178a2d",
        "outputId": "de6353f1-335e-43a0-82f9-3d29d75429b7",
        "colab": {
          "base_uri": "https://localhost:8080/"
        }
      },
      "outputs": [
        {
          "output_type": "stream",
          "name": "stdout",
          "text": [
            "Artificial Intelligence is good\n"
          ]
        }
      ],
      "source": [
        "import re\n",
        "input = \"AI is good\"\n",
        "output = re.sub(r'AI','Artificial Intelligence', input)\n",
        "print(output)"
      ]
    },
    {
      "cell_type": "markdown",
      "id": "4e471de6",
      "metadata": {
        "id": "4e471de6"
      },
      "source": [
        "**CP6**: Create a numpy array of 10 zeros."
      ]
    },
    {
      "cell_type": "code",
      "execution_count": 19,
      "id": "7f6e9acb",
      "metadata": {
        "id": "7f6e9acb",
        "outputId": "dca62090-b310-46a7-b46c-b15b81b061eb",
        "colab": {
          "base_uri": "https://localhost:8080/"
        }
      },
      "outputs": [
        {
          "output_type": "stream",
          "name": "stdout",
          "text": [
            "[0. 0. 0. 0. 0. 0. 0. 0. 0. 0.]\n"
          ]
        }
      ],
      "source": [
        "import numpy as np\n",
        "\n",
        "output = np.zeros(10)\n",
        "print(output)"
      ]
    },
    {
      "cell_type": "markdown",
      "id": "5f52a63e",
      "metadata": {
        "id": "5f52a63e"
      },
      "source": [
        "**CP7** Create a numpy array of the integers from 10 to 49."
      ]
    },
    {
      "cell_type": "code",
      "execution_count": 20,
      "id": "ddb01e9a",
      "metadata": {
        "id": "ddb01e9a",
        "outputId": "42c55fd0-7225-464e-b9b0-e3db4917d9aa",
        "colab": {
          "base_uri": "https://localhost:8080/"
        }
      },
      "outputs": [
        {
          "output_type": "stream",
          "name": "stdout",
          "text": [
            "[10 11 12 13 14 15 16 17 18 19 20 21 22 23 24 25 26 27 28 29 30 31 32 33\n",
            " 34 35 36 37 38 39 40 41 42 43 44 45 46 47 48 49]\n"
          ]
        }
      ],
      "source": [
        "import numpy as np\n",
        "\n",
        "output = np.arange(10, 49 + 1)\n",
        "print(output)"
      ]
    },
    {
      "cell_type": "markdown",
      "id": "79e4d614",
      "metadata": {
        "id": "79e4d614"
      },
      "source": [
        "**CP8**: Create a 3x3 numpy matrix, filled with values ranging from 0 to 8."
      ]
    },
    {
      "cell_type": "code",
      "execution_count": 24,
      "id": "d3eddea4",
      "metadata": {
        "id": "d3eddea4",
        "outputId": "094cb0f9-758d-472a-950f-b864460ed511",
        "colab": {
          "base_uri": "https://localhost:8080/"
        }
      },
      "outputs": [
        {
          "output_type": "stream",
          "name": "stdout",
          "text": [
            "[[0 1 2]\n",
            " [3 4 5]\n",
            " [6 7 8]]\n"
          ]
        }
      ],
      "source": [
        "import numpy as np\n",
        "\n",
        "output = np.arange(9).reshape(3,3)\n",
        "print(output)"
      ]
    },
    {
      "cell_type": "markdown",
      "id": "1b09270f",
      "metadata": {
        "id": "1b09270f"
      },
      "source": [
        "**CP9**: Explain why machine learning models require large amounts of data? What does it mean for an amount of data to be **large**?"
      ]
    },
    {
      "cell_type": "code",
      "execution_count": 26,
      "id": "a57e9726",
      "metadata": {
        "id": "a57e9726",
        "outputId": "fbae43ef-7951-449b-ddd7-a6076ff3412e",
        "colab": {
          "base_uri": "https://localhost:8080/"
        }
      },
      "outputs": [
        {
          "output_type": "stream",
          "name": "stdout",
          "text": [
            "Machine learning models require large amounts of data to improve their generalization it means to predict on citcumstances they have not been trained on. And also to capture data variability, learn robust feature representations, and reduce overfitting.\n",
            "                         \n",
            "A large data means a data set that is suffiecent for a machine learning model to learn a specific task.\n"
          ]
        }
      ],
      "source": [
        "print( \"Machine learning models require large amounts of data to improve their generalization it means to predict on citcumstances they have not been trained on. And also to capture data variability, learn robust feature representations, and reduce overfitting.\")\n",
        "print(\"                         \")\n",
        "print(\"A large data means a data set that is suffiecent for a machine learning model to learn a specific task.\")"
      ]
    },
    {
      "cell_type": "markdown",
      "id": "1a357bde",
      "metadata": {
        "id": "1a357bde"
      },
      "source": [
        "**CP10**: Explain 2 ways AI can be used in an adverserial way, and what can be done to prevent it."
      ]
    },
    {
      "cell_type": "code",
      "execution_count": 29,
      "id": "a9db70af",
      "metadata": {
        "id": "a9db70af",
        "outputId": "4dbeba6c-aa75-497b-99a7-e297d4f49aaa",
        "colab": {
          "base_uri": "https://localhost:8080/"
        }
      },
      "outputs": [
        {
          "output_type": "stream",
          "name": "stdout",
          "text": [
            "1: Adversarial Attacks on Machine Learning Models: Adversarial attacks aim to manipulate machine learning models by giving carefully crafted inputs to deceive or mislead the model's predictions. Also known as injection\n",
            "        \n",
            "2: AI-Powered Misinformation and Manipulation: AI can be exploited to generate and spread misinformation, deepfakes, or manipulated content, leading to the dissemination of false information or malicious activities. This can be acheived by creating massive victim tailored spams..\n",
            "   \n",
            "We can mitigate these problems by using the following techniques; Robust model training, adversarial inputa detection, fact checking, ai text detection ..\n"
          ]
        }
      ],
      "source": [
        "print(\"1: Adversarial Attacks on Machine Learning Models: Adversarial attacks aim to manipulate machine learning models by giving carefully crafted inputs to deceive or mislead the model's predictions. Also known as injection\")\n",
        "\n",
        "print(\"        \")\n",
        "\n",
        "print(\"2: AI-Powered Misinformation and Manipulation: AI can be exploited to generate and spread misinformation, deepfakes, or manipulated content, leading to the dissemination of false information or malicious activities. This can be acheived by creating massive victim tailored spams..\")\n",
        "\n",
        "print(\"   \")\n",
        "\n",
        "print(\"We can mitigate these problems by using the following techniques; Robust model training, adversarial inputa detection, fact checking, ai text detection ..\")"
      ]
    }
  ],
  "metadata": {
    "kernelspec": {
      "display_name": "Python 3 (ipykernel)",
      "language": "python",
      "name": "python3"
    },
    "language_info": {
      "codemirror_mode": {
        "name": "ipython",
        "version": 3
      },
      "file_extension": ".py",
      "mimetype": "text/x-python",
      "name": "python",
      "nbconvert_exporter": "python",
      "pygments_lexer": "ipython3",
      "version": "3.8.2"
    },
    "varInspector": {
      "cols": {
        "lenName": 16,
        "lenType": 16,
        "lenVar": 40
      },
      "kernels_config": {
        "python": {
          "delete_cmd_postfix": "",
          "delete_cmd_prefix": "del ",
          "library": "var_list.py",
          "varRefreshCmd": "print(var_dic_list())"
        },
        "r": {
          "delete_cmd_postfix": ") ",
          "delete_cmd_prefix": "rm(",
          "library": "var_list.r",
          "varRefreshCmd": "cat(var_dic_list()) "
        }
      },
      "types_to_exclude": [
        "module",
        "function",
        "builtin_function_or_method",
        "instance",
        "_Feature"
      ],
      "window_display": false
    },
    "colab": {
      "provenance": [],
      "include_colab_link": true
    }
  },
  "nbformat": 4,
  "nbformat_minor": 5
}